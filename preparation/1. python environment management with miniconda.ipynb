{
 "cells": [
  {
   "cell_type": "markdown",
   "metadata": {},
   "source": [
    "# Python environment management with conda"
   ]
  },
  {
   "cell_type": "markdown",
   "metadata": {},
   "source": [
    "To ensure students have a standard platform for data analysis, we suggest using conda from [miniconda](https://docs.conda.io/en/latest/miniconda.html) to create a virtual environment, where you can install python, python packages, and other software packages.\n",
    "This is also a good working practice to have your own python environments on laptops/remote servers.\n",
    "\n",
    "The advantages of using conda to manage different python virtual environments for different projects are briefly summarized below:\n",
    "\n",
    "* A virtual environment helps to keep dependencies required by different projects separate by creating isolated python virtual environments for them.\n",
    "\n",
    "* With conda, you can not only install python packages, but also many other programming packages, like the Climate Data Operators [cdo](https://code.mpimet.mpg.de/projects/cdo/wiki/Cdo#Documentation).\n",
    "\n",
    "* You can install any latest packages for your projects, and those can have extended functions and bug fixes.\n",
    "\n",
    "* If you have only one base python environment, it is likely that after you upgrade one package, many of your codes will not run anymore due to the poor backward compatibility of packages."
   ]
  },
  {
   "cell_type": "markdown",
   "metadata": {},
   "source": [
    "## Installing miniconda"
   ]
  },
  {
   "cell_type": "markdown",
   "metadata": {},
   "source": [
    "Download and install miniconda from https://docs.conda.io/en/latest/miniconda.html.\n",
    "\n",
    "### For Windows\n",
    "Download the installer\n",
    "\n",
    "<a href=\"https://repo.anaconda.com/miniconda/Miniconda3-latest-Windows-x86_64.exe\">     Miniconda installer for Windows.</a>\n",
    "\n",
    "Install for all users when prompted.\n",
    "\n",
    "### For Linux\n",
    "Download the installer:\n",
    "\n",
    "<a href=\"https://repo.anaconda.com/miniconda/Miniconda3-py39_4.11.0-Linux-x86_64.sh\">     Miniconda installer for Linux.</a>\n",
    "\n",
    "In your terminal window, run:\n",
    "\n",
    "    $ bash Miniconda3-py39_4.11.0-Linux-x86_64.sh\n",
    "\n",
    "Read and follow the prompts"
   ]
  },
  {
   "cell_type": "markdown",
   "metadata": {},
   "source": [
    "## Activate conda from miniconda"
   ]
  },
  {
   "cell_type": "markdown",
   "metadata": {},
   "source": [
    "### For Windows"
   ]
  },
  {
   "cell_type": "markdown",
   "metadata": {},
   "source": [
    "You can search for the app \"Anaconda Prompt (Miniconda3)\" and open it."
   ]
  },
  {
   "cell_type": "markdown",
   "metadata": {},
   "source": [
    "### For MacOS"
   ]
  },
  {
   "cell_type": "markdown",
   "metadata": {},
   "source": [
    "Find the path to the installed miniconda3, e.g. \"/Users/${your_username}/opt/miniconda3/\".\n",
    "Then activate it:\n",
    "\n",
    "    $ source ${your_path_to_miniconda3}/bin/activate\n",
    "\n",
    "e.g. $ source /Users/gao/opt/miniconda3/bin/activate"
   ]
  },
  {
   "cell_type": "markdown",
   "metadata": {},
   "source": [
    "### For Linux and remote servers (e.g. HPC)"
   ]
  },
  {
   "cell_type": "markdown",
   "metadata": {},
   "source": [
    "In the terminal type\n",
    "\n",
    "    $ conda activate\n",
    "    \n",
    "you should see (base) appear at the start of the terminal output"
   ]
  },
  {
   "cell_type": "markdown",
   "metadata": {},
   "source": [
    "## Create a virtual environment using conda"
   ]
  },
  {
   "cell_type": "markdown",
   "metadata": {},
   "source": [
    "Although python is already installed in the \"base\" environment of miniconda3, we will create a new python environment for this exercise.\n",
    "After you activate conda, you can use following commands to get more information about it:\n",
    "\n",
    "    $ conda --help\n",
    "    $ conda info\n",
    "\n",
    "Create a virtual Environment named \"training\" and activate it:\n",
    "\n",
    "    $ conda create --name training\n",
    "    $ conda activate training"
   ]
  },
  {
   "cell_type": "markdown",
   "metadata": {},
   "source": [
    "## Install python and python packages"
   ]
  },
  {
   "cell_type": "markdown",
   "metadata": {},
   "source": [
    "Install python in the virtual Environment \"training\".\n",
    "It is recommended to use 'conda-forge' channel to ensure consistency across packages.\n",
    "\n",
    "    $ conda install -c conda-forge python=3.10.0\n",
    "\n",
    "Then install all required packages in this exercise:\n",
    "\n",
    "    $ conda install -c conda-forge numpy\n",
    "    $ conda install -c conda-forge matplotlib\n",
    "    $ conda install -c conda-forge cartopy\n",
    "    $ conda install -c conda-forge netcdf4\n",
    "    $ conda install -c conda-forge jupyter\n",
    "    $ conda install -c conda-forge jupyterlab\n",
    "    $ conda install -c conda-forge xarray\n",
    "    $ conda install -c conda-forge dask\n",
    "\n",
    "If you are using MacOS or Linux, you can consider installing [mamba](https://github.com/mamba-org/mamba), which is faster than conda when installing packages.\n",
    "But it does not seem to work easily with Windows during our test.\n"
   ]
  },
  {
   "cell_type": "markdown",
   "metadata": {},
   "source": [
    "## Other useful command"
   ]
  },
  {
   "cell_type": "markdown",
   "metadata": {},
   "source": [
    "List available conda environments\n",
    "\n",
    "    $ conda env list\n",
    "\n",
    "List installed packages in current environment\n",
    "\n",
    "    $ conda list\n",
    "\n",
    "Don't run, unless you wanna remove the conda environment\n",
    "\n",
    "    $ conda env remove -n training\n",
    "\n",
    "Update conda\n",
    "\n",
    "    $ conda update -n base -c defaults conda\n",
    "\n",
    "Remove unused packages and caches.\n",
    "\n",
    "    $ conda clean -t -i"
   ]
  },
  {
   "cell_type": "markdown",
   "metadata": {},
   "source": [
    "# Launch python"
   ]
  },
  {
   "cell_type": "markdown",
   "metadata": {},
   "source": [
    "Firstly, activate the virtual environment 'training'."
   ]
  },
  {
   "cell_type": "markdown",
   "metadata": {},
   "source": [
    "## check where python is on your system."
   ]
  },
  {
   "cell_type": "markdown",
   "metadata": {},
   "source": [
    "### Windows"
   ]
  },
  {
   "cell_type": "markdown",
   "metadata": {},
   "source": [
    "Check all python interpreter paths:\n",
    "\n",
    "    $ where python\n",
    "\n",
    "It will output several paths, and the first should be something like this: \"C:\\Users\\gao\\.conda\\envs\\training\\python.exe\".\n",
    "\n",
    "Check the version of python:\n",
    "\n",
    "    $ python -V\n",
    "\n",
    "You should see \"Python 3.10.2\""
   ]
  },
  {
   "cell_type": "markdown",
   "metadata": {},
   "source": [
    "### MacOS or Linux"
   ]
  },
  {
   "cell_type": "markdown",
   "metadata": {},
   "source": [
    "Check current python interpreter path:\n",
    "\n",
    "    $ which python\n",
    "\n",
    "Check the version of python:\n",
    "\n",
    "    $ python -V\n",
    "    \n",
    "You should see \"Python 3.10.2\""
   ]
  },
  {
   "cell_type": "markdown",
   "metadata": {},
   "source": [
    "## Use python"
   ]
  },
  {
   "cell_type": "markdown",
   "metadata": {},
   "source": [
    "There are many ways to use python, we will only list some of them:"
   ]
  },
  {
   "cell_type": "markdown",
   "metadata": {},
   "source": [
    "### 1, In terminal"
   ]
  },
  {
   "cell_type": "markdown",
   "metadata": {},
   "source": [
    "Enter python with:\n",
    "\n",
    "    $ python\n",
    "\n",
    "or\n",
    "\n",
    "    $ ipython\n",
    "\n",
    "\n",
    "You will see \">>>\", following which you can type in python scripts. And exit with:\n",
    "\n",
    "    $ exit()\n",
    "\n"
   ]
  },
  {
   "cell_type": "markdown",
   "metadata": {},
   "source": [
    "### 2, Using one of the Integrated Development and Learning Environment (IDLE):"
   ]
  },
  {
   "cell_type": "markdown",
   "metadata": {},
   "source": [
    "* [Visual Studio Code](https://code.visualstudio.com/)\n",
    "\n",
    "pros: it works very good with supercomputers or remote servers. It can also be used for other programming languages. (my personal choice)\n",
    "\n",
    "cons: deep initial learning curve.\n",
    "\n",
    "* [Spyder](https://www.spyder-ide.org/)\n",
    "\n",
    "pros: easy to use, quite popular.\n",
    "\n",
    "cons: did not work well with supercomputer or remote servers (tested one year ago).\n",
    "\n",
    "* [Atom](https://atom.io/)\n",
    "\n",
    "Similar to Visual Studio Code, not tested.\n",
    "\n",
    "* [PyCharm](https://www.jetbrains.com/pycharm/)\n",
    "\n",
    "The Python IDE for Professional Developers, not tested.\n"
   ]
  },
  {
   "cell_type": "markdown",
   "metadata": {},
   "source": [
    "### 3, Using JupyterLab"
   ]
  },
  {
   "cell_type": "markdown",
   "metadata": {},
   "source": [
    "It is very good for illustration and thus adopted for this training school. Additional pros and cons are listed below:\n",
    "\n",
    "Pros\n",
    "* Jupyter supports over 40 programming languages, including Python, R, Julia, and Scala.\n",
    "* It is convenient to share ***reproducible*** notebook.\n",
    "* Your code can produce rich, interactive output: markdown, HTML, images, videos, LaTeX, and custom MIME types.\n",
    "* As it can produce rich text, we use it for our documentation.\n",
    "\n",
    "Cons\n",
    "* Jupyter is desinged based on [ipython](https://ipython.org/). It can be slightly slower than ipython in some conditions.\n",
    "\n",
    "For more information please refer to the website of [Jupyter](https://jupyter.org/).\n",
    "\n",
    "Ensure that you activate the virtual environment 'training'.\n",
    "Launch a jypyter lab session in the folder 'finse_school': (Note the dot following 'jupyter lab' means current directory and is necessary.)\n",
    "\n",
    "    $ cd ${your_path_to_finse_school}\n",
    "\n",
    "You might need to use '$ pushd ${your_path_to_finse_school}' on Windows.\n",
    "\n",
    "    $ jupyter lab .\n",
    "\n",
    "### Problem Solving\n",
    "In the event of a module not found/dll error in windows when opening one of the jupyter notebooks, shutdown jupyter in the anaconda prompt and run the following\n",
    "\n",
    "conda install -c conda-forge python=3.10.2\n",
    "\n",
    "install the update and restart jupyter labs"
   ]
  },
  {
   "cell_type": "code",
   "execution_count": null,
   "metadata": {},
   "outputs": [],
   "source": []
  }
 ],
 "metadata": {
  "kernelspec": {
   "display_name": "Python 3",
   "language": "python",
   "name": "python3"
  },
  "language_info": {
   "codemirror_mode": {
    "name": "ipython",
    "version": 3
   },
   "file_extension": ".py",
   "mimetype": "text/x-python",
   "name": "python",
   "nbconvert_exporter": "python",
   "pygments_lexer": "ipython3",
   "version": "3.6.9"
  }
 },
 "nbformat": 4,
 "nbformat_minor": 4
}
