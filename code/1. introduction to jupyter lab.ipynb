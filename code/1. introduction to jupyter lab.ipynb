{
 "cells": [
  {
   "cell_type": "markdown",
   "metadata": {},
   "source": [
    "For a general introduction to python and jupyter, please have a look at following website:\n",
    "\n",
    "Python:\n",
    "https://www.python.org/\n",
    "\n",
    "jupyter (lab):\n",
    "https://jupyterlab.readthedocs.io/en/stable/\n",
    "https://jupyter.org/\n",
    "\n",
    "Below we will give several examples in using python for climate data."
   ]
  },
  {
   "cell_type": "code",
   "execution_count": 1,
   "metadata": {},
   "outputs": [
    {
     "name": "stdout",
     "output_type": "stream",
     "text": [
      "/Users/gao/opt/miniconda3/envs/training/bin/python\n"
     ]
    }
   ],
   "source": [
    "# You can execute shell command in jupyter with prefix '! ', e.g.\n",
    "! which python"
   ]
  },
  {
   "cell_type": "code",
   "execution_count": 2,
   "metadata": {},
   "outputs": [],
   "source": [
    "# You can import packages for usage\n",
    "\n",
    "import numpy as np"
   ]
  },
  {
   "cell_type": "code",
   "execution_count": null,
   "metadata": {},
   "outputs": [],
   "source": []
  }
 ],
 "metadata": {
  "kernelspec": {
   "display_name": "Python 3 (ipykernel)",
   "language": "python",
   "name": "python3"
  },
  "language_info": {
   "codemirror_mode": {
    "name": "ipython",
    "version": 3
   },
   "file_extension": ".py",
   "mimetype": "text/x-python",
   "name": "python",
   "nbconvert_exporter": "python",
   "pygments_lexer": "ipython3",
   "version": "3.10.0"
  }
 },
 "nbformat": 4,
 "nbformat_minor": 4
}
