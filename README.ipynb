{
 "cells": [
  {
   "cell_type": "markdown",
   "metadata": {},
   "source": [
    "# Finse_data_analysis"
   ]
  },
  {
   "cell_type": "markdown",
   "metadata": {},
   "source": [
    "This repository is prepared for FINSE Winter school from 20/03/2022 to 26/03/2022.\n",
    "It is an introduction to climate data analysis with python."
   ]
  },
  {
   "cell_type": "markdown",
   "metadata": {},
   "source": [
    "## Prerequisite"
   ]
  },
  {
   "cell_type": "markdown",
   "metadata": {},
   "source": [
    "Due to a large diversity of student background, we do not assume any previous experiences of students on these materials.\n",
    "But as it is hard to cover every details, we expect some extra reading if you are unfamiliar with some tools.\n",
    "One of the best places to start with a tool is normally its official website and the quick start tutorial there."
   ]
  },
  {
   "cell_type": "markdown",
   "metadata": {},
   "source": [
    "## Downloading this Github repository"
   ]
  },
  {
   "cell_type": "markdown",
   "metadata": {},
   "source": [
    "While you can use [GitHub](https://github.com/) to clone this repository, if you are not comfortable using [git](https://git-scm.com/) yet you can download this repository as a ZIP file from the top right \"Code\" dropdown menu button.\n",
    "Create a new folder called \"finse_school\" and then unzip the file, this is also where you will save the data folder from the [google drive link](https://drive.google.com/drive/folders/1UImBdIkGGyUL8xbgWTaS4Y53nakdcjsa?usp=sharing) you were provided.\n",
    "The final file structure will be ./finse_school/Finse_data_analysis and ./finse_school/data\n",
    "\n",
    "If you wish to use git the instructions are detailed below.\n",
    "To use GitHub on your computer, you need [git](https://git-scm.com/) installed.\n",
    "To clone a Git repository to the folder 'finse_school', you need to change the currrent working directory to 'finse_school' using 'cd' ('pushd' on Windows) and then use 'git clone' + the URL of the repository in a terminal.\n",
    "Note the command started with a dollar sign is to be issued in a terminal.\n",
    "If you are not familiar with a command, you can check with the command \"man\", e.g. \"man cd\".\n",
    "\n",
    "    $ cd your_path_to_the_folder_finse_school\n",
    "    $ git clone https://github.com/l975421700/Finse_data_analysis\n",
    "\n",
    "For addtional preparation before the school, please go through the following files in the folder 'preparation' in this repository.\n",
    "\n",
    "1. python environment management with miniconda.ipynb\n",
    "2. Introduction to map plot with JupyterLab.ipynb\n",
    "3. Introduction to data analysis with JupyterLab.ipynb\n",
    "4. Data analysis with JupyterLab.ipynb\n",
    "\n",
    "If you find the tutorial hard to follow. Please let us know (Qinggang Gao qino@bas.ac.uk).\n",
    "We always welcome your feedback on these materials."
   ]
  }
 ],
 "metadata": {
  "kernelspec": {
   "display_name": "Python 3",
   "language": "python",
   "name": "python3"
  },
  "language_info": {
   "codemirror_mode": {
    "name": "ipython",
    "version": 3
   },
   "file_extension": ".py",
   "mimetype": "text/x-python",
   "name": "python",
   "nbconvert_exporter": "python",
   "pygments_lexer": "ipython3",
   "version": "3.6.9"
  }
 },
 "nbformat": 4,
 "nbformat_minor": 4
}
