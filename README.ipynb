{
 "cells": [
  {
   "cell_type": "markdown",
   "metadata": {},
   "source": [
    "# Finse_data_analysis"
   ]
  },
  {
   "cell_type": "markdown",
   "metadata": {},
   "source": [
    "This repository is prepared for FINSE Winter school from 20/03/2022 to 26/03/2022.\n",
    "It is an introduction to climate data analysis with python."
   ]
  },
  {
   "cell_type": "markdown",
   "metadata": {},
   "source": [
    "## Prerequisite"
   ]
  },
  {
   "cell_type": "markdown",
   "metadata": {},
   "source": [
    "Due to a large diversity of student background, we do not assume any previous experiences of students on these materials.\n",
    "But as it is hard to cover every details, we expect some extra reading if you are unfamiliar with some tools.\n",
    "One of the best places to start with a tool is normally its official website and the quick start tutorial there.\n",
    "\n",
    "The instructions are mainly tested on MacOS and remote servers. It should work as well on Linux machine, but for Windows system significant changes should be made and some suggestions will be given."
   ]
  },
  {
   "cell_type": "markdown",
   "metadata": {},
   "source": [
    "## Downloading this Github repository"
   ]
  },
  {
   "cell_type": "markdown",
   "metadata": {},
   "source": [
    "While you can download this repository as a zip file, we suggest you clone this repository with [GitHub](https://github.com/).\n",
    "GitHub is a provider of Internet hosting for software development and version control using Git."
   ]
  },
  {
   "cell_type": "markdown",
   "metadata": {},
   "source": [
    "To use GitHub on your computer, you need [git](https://git-scm.com/) installed on your computer."
   ]
  },
  {
   "cell_type": "markdown",
   "metadata": {},
   "source": [
    "Then, create a folder (e.g. 'finse_school') to store this repository and the associated data (https://drive.google.com/drive/folders/1UImBdIkGGyUL8xbgWTaS4Y53nakdcjsa?usp=sharing)."
   ]
  },
  {
   "cell_type": "markdown",
   "metadata": {},
   "source": [
    "To clone a Git repository to the folder 'finse_school', you need to change the currrent working directory to 'finse_school' using 'cd' and then use 'git clone' + the URL of the repository in a terminal.\n",
    "Note the command started with a dollar sign is to be issued in a terminal.\n",
    "If you are not familiar with a command, you can check with the command \"man\", e.g. \"man cd\"."
   ]
  },
  {
   "cell_type": "markdown",
   "metadata": {},
   "source": [
    "    $ cd your_path_to_the_folder_finse_school\n",
    "    $ git clone https://github.com/l975421700/Finse_data_analysis"
   ]
  },
  {
   "cell_type": "markdown",
   "metadata": {},
   "source": [
    "For addtional preparation before the school, please go through the following files in the folder 'preparation' in this repository.\n",
    "\n",
    "1. python environment management with miniconda.ipynb\n",
    "2. Introduction to map plot with JupyterLab.ipynb\n",
    "3. Introduction to data analysis with JupyterLab.ipynb\n",
    "4. Data analysis with JupyterLab.ipynb\n",
    "\n",
    "If you find the tutorial hard to follow. Please let us know (Qinggang Gao qino@bas.ac.uk).\n",
    "We always welcome your feedback on these materials.\n"
   ]
  }
 ],
 "metadata": {
  "language_info": {
   "name": "python"
  },
  "orig_nbformat": 4
 },
 "nbformat": 4,
 "nbformat_minor": 2
}
