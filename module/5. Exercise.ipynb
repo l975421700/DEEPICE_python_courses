{
 "cells": [
  {
   "cell_type": "markdown",
   "id": "1eebf6ec-2d5d-4d02-b717-5d95ac6229da",
   "metadata": {},
   "source": [
    "# Extra excercise"
   ]
  },
  {
   "cell_type": "markdown",
   "id": "15891322-88a1-4a9a-a754-b11234cf7cc7",
   "metadata": {},
   "source": [
    "For keen beans\n",
    "1. Plot a map of the ERA5 T2M field.\n",
    "2. Read in new observations [Gareth!]\n",
    "3. Plot the new observations on top of the ERA5 map\n",
    "4. Extract ERA5 values at the lat.lon locations of the observations\n",
    "5. Plot a scatter plot of the ERA5 versus the observed values  "
   ]
  },
  {
   "cell_type": "code",
   "execution_count": null,
   "id": "e30c22dd-e10c-4c2b-b8de-df858538e4b7",
   "metadata": {},
   "outputs": [],
   "source": []
  }
 ],
 "metadata": {
  "kernelspec": {
   "display_name": "Python 3 (ipykernel)",
   "language": "python",
   "name": "python3"
  },
  "language_info": {
   "codemirror_mode": {
    "name": "ipython",
    "version": 3
   },
   "file_extension": ".py",
   "mimetype": "text/x-python",
   "name": "python",
   "nbconvert_exporter": "python",
   "pygments_lexer": "ipython3",
   "version": "3.10.2"
  }
 },
 "nbformat": 4,
 "nbformat_minor": 5
}
